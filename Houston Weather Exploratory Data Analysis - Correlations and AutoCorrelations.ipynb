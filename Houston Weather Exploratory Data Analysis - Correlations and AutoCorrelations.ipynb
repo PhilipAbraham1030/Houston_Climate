{
 "cells": [
  {
   "cell_type": "markdown",
   "metadata": {},
   "source": [
    "**“Exploratory data analysis can never be the whole story, but nothing else can serve as the foundation stone.” —John Tukey**"
   ]
  },
  {
   "cell_type": "code",
   "execution_count": 1,
   "metadata": {},
   "outputs": [],
   "source": [
    "# When we print multiple things in Jupyter, it will only print the last thing.\n",
    "# To print everything\n",
    "from IPython.core.interactiveshell import InteractiveShell\n",
    "InteractiveShell.ast_node_interactivity = \"all\""
   ]
  },
  {
   "cell_type": "markdown",
   "metadata": {},
   "source": [
    "## Houston Weather Data - 1973 to 2017"
   ]
  },
  {
   "cell_type": "code",
   "execution_count": 2,
   "metadata": {},
   "outputs": [],
   "source": [
    "import pandas as pd\n",
    "import matplotlib.pyplot as plt\n",
    "import seaborn as sns\n",
    "sns.set()"
   ]
  },
  {
   "cell_type": "code",
   "execution_count": 3,
   "metadata": {},
   "outputs": [
    {
     "data": {
      "text/html": [
       "<div>\n",
       "<style scoped>\n",
       "    .dataframe tbody tr th:only-of-type {\n",
       "        vertical-align: middle;\n",
       "    }\n",
       "\n",
       "    .dataframe tbody tr th {\n",
       "        vertical-align: top;\n",
       "    }\n",
       "\n",
       "    .dataframe thead th {\n",
       "        text-align: right;\n",
       "    }\n",
       "</style>\n",
       "<table border=\"1\" class=\"dataframe\">\n",
       "  <thead>\n",
       "    <tr style=\"text-align: right;\">\n",
       "      <th></th>\n",
       "      <th>rain</th>\n",
       "      <th>year</th>\n",
       "      <th>month</th>\n",
       "      <th>week</th>\n",
       "      <th>day</th>\n",
       "      <th>hour</th>\n",
       "      <th>pressure</th>\n",
       "      <th>temp</th>\n",
       "      <th>dew_pt</th>\n",
       "      <th>wind_spd</th>\n",
       "      <th>dir</th>\n",
       "      <th>vis</th>\n",
       "      <th>fog</th>\n",
       "      <th>thunder</th>\n",
       "      <th>precip</th>\n",
       "      <th>cond</th>\n",
       "      <th>season</th>\n",
       "    </tr>\n",
       "    <tr>\n",
       "      <th>date</th>\n",
       "      <th></th>\n",
       "      <th></th>\n",
       "      <th></th>\n",
       "      <th></th>\n",
       "      <th></th>\n",
       "      <th></th>\n",
       "      <th></th>\n",
       "      <th></th>\n",
       "      <th></th>\n",
       "      <th></th>\n",
       "      <th></th>\n",
       "      <th></th>\n",
       "      <th></th>\n",
       "      <th></th>\n",
       "      <th></th>\n",
       "      <th></th>\n",
       "      <th></th>\n",
       "    </tr>\n",
       "  </thead>\n",
       "  <tbody>\n",
       "    <tr>\n",
       "      <th>1973-01-01 00:00:00</th>\n",
       "      <td>0</td>\n",
       "      <td>1973</td>\n",
       "      <td>Jan</td>\n",
       "      <td>1</td>\n",
       "      <td>1</td>\n",
       "      <td>0</td>\n",
       "      <td>30.12</td>\n",
       "      <td>54.0</td>\n",
       "      <td>35.1</td>\n",
       "      <td>9.2</td>\n",
       "      <td>ENE</td>\n",
       "      <td>15.0</td>\n",
       "      <td>0</td>\n",
       "      <td>0</td>\n",
       "      <td>0.0</td>\n",
       "      <td>Unknown</td>\n",
       "      <td>Winter</td>\n",
       "    </tr>\n",
       "    <tr>\n",
       "      <th>1973-01-01 01:00:00</th>\n",
       "      <td>0</td>\n",
       "      <td>1973</td>\n",
       "      <td>Jan</td>\n",
       "      <td>1</td>\n",
       "      <td>1</td>\n",
       "      <td>1</td>\n",
       "      <td>30.12</td>\n",
       "      <td>55.0</td>\n",
       "      <td>36.0</td>\n",
       "      <td>11.5</td>\n",
       "      <td>ENE</td>\n",
       "      <td>15.0</td>\n",
       "      <td>0</td>\n",
       "      <td>0</td>\n",
       "      <td>0.0</td>\n",
       "      <td>Unknown</td>\n",
       "      <td>Winter</td>\n",
       "    </tr>\n",
       "    <tr>\n",
       "      <th>1973-01-01 02:00:00</th>\n",
       "      <td>0</td>\n",
       "      <td>1973</td>\n",
       "      <td>Jan</td>\n",
       "      <td>1</td>\n",
       "      <td>1</td>\n",
       "      <td>2</td>\n",
       "      <td>30.09</td>\n",
       "      <td>54.0</td>\n",
       "      <td>36.0</td>\n",
       "      <td>11.5</td>\n",
       "      <td>ENE</td>\n",
       "      <td>15.0</td>\n",
       "      <td>0</td>\n",
       "      <td>0</td>\n",
       "      <td>0.0</td>\n",
       "      <td>Unknown</td>\n",
       "      <td>Winter</td>\n",
       "    </tr>\n",
       "    <tr>\n",
       "      <th>1973-01-01 03:00:00</th>\n",
       "      <td>0</td>\n",
       "      <td>1973</td>\n",
       "      <td>Jan</td>\n",
       "      <td>1</td>\n",
       "      <td>1</td>\n",
       "      <td>3</td>\n",
       "      <td>30.12</td>\n",
       "      <td>54.0</td>\n",
       "      <td>35.1</td>\n",
       "      <td>17.3</td>\n",
       "      <td>ENE</td>\n",
       "      <td>15.0</td>\n",
       "      <td>0</td>\n",
       "      <td>0</td>\n",
       "      <td>0.0</td>\n",
       "      <td>Unknown</td>\n",
       "      <td>Winter</td>\n",
       "    </tr>\n",
       "    <tr>\n",
       "      <th>1973-01-01 04:00:00</th>\n",
       "      <td>0</td>\n",
       "      <td>1973</td>\n",
       "      <td>Jan</td>\n",
       "      <td>1</td>\n",
       "      <td>1</td>\n",
       "      <td>4</td>\n",
       "      <td>30.12</td>\n",
       "      <td>54.0</td>\n",
       "      <td>35.1</td>\n",
       "      <td>9.2</td>\n",
       "      <td>East</td>\n",
       "      <td>15.0</td>\n",
       "      <td>0</td>\n",
       "      <td>0</td>\n",
       "      <td>0.0</td>\n",
       "      <td>Light Drizzle</td>\n",
       "      <td>Winter</td>\n",
       "    </tr>\n",
       "  </tbody>\n",
       "</table>\n",
       "</div>"
      ],
      "text/plain": [
       "                     rain  year month  week  day  hour  pressure  temp  \\\n",
       "date                                                                     \n",
       "1973-01-01 00:00:00     0  1973   Jan     1    1     0     30.12  54.0   \n",
       "1973-01-01 01:00:00     0  1973   Jan     1    1     1     30.12  55.0   \n",
       "1973-01-01 02:00:00     0  1973   Jan     1    1     2     30.09  54.0   \n",
       "1973-01-01 03:00:00     0  1973   Jan     1    1     3     30.12  54.0   \n",
       "1973-01-01 04:00:00     0  1973   Jan     1    1     4     30.12  54.0   \n",
       "\n",
       "                     dew_pt  wind_spd   dir   vis  fog  thunder  precip  \\\n",
       "date                                                                      \n",
       "1973-01-01 00:00:00    35.1       9.2   ENE  15.0    0        0     0.0   \n",
       "1973-01-01 01:00:00    36.0      11.5   ENE  15.0    0        0     0.0   \n",
       "1973-01-01 02:00:00    36.0      11.5   ENE  15.0    0        0     0.0   \n",
       "1973-01-01 03:00:00    35.1      17.3   ENE  15.0    0        0     0.0   \n",
       "1973-01-01 04:00:00    35.1       9.2  East  15.0    0        0     0.0   \n",
       "\n",
       "                              cond  season  \n",
       "date                                        \n",
       "1973-01-01 00:00:00        Unknown  Winter  \n",
       "1973-01-01 01:00:00        Unknown  Winter  \n",
       "1973-01-01 02:00:00        Unknown  Winter  \n",
       "1973-01-01 03:00:00        Unknown  Winter  \n",
       "1973-01-01 04:00:00  Light Drizzle  Winter  "
      ]
     },
     "execution_count": 3,
     "metadata": {},
     "output_type": "execute_result"
    }
   ],
   "source": [
    "dfR = pd.read_csv('./data/dfR.csv', index_col='date',parse_dates=True)\n",
    "dfR.head()"
   ]
  },
  {
   "cell_type": "markdown",
   "metadata": {},
   "source": [
    "## Empirical cumulative distribution function (ECDF)"
   ]
  },
  {
   "cell_type": "code",
   "execution_count": 4,
   "metadata": {},
   "outputs": [],
   "source": [
    "import numpy as np\n",
    "def ecdf(data):\n",
    "    \"\"\"Compute ECDF for a one-dimensional array of measurements.\"\"\"\n",
    "    # Number of data points: n\n",
    "    n = len(data)\n",
    "\n",
    "    # x-data for the ECDF: x\n",
    "    x = np.sort(data)\n",
    "\n",
    "    # y-data for the ECDF: y\n",
    "    y = np.arange(1, n+1) / n\n",
    "\n",
    "    return x, y"
   ]
  },
  {
   "cell_type": "markdown",
   "metadata": {},
   "source": [
    "## Plotting the ECDF"
   ]
  },
  {
   "cell_type": "markdown",
   "metadata": {},
   "source": [
    "You will now use your ecdf() function to compute the ECDFs for the Houston temperature differentiated by seasons. You will then plot the ECDFs."
   ]
  },
  {
   "cell_type": "code",
   "execution_count": 5,
   "metadata": {},
   "outputs": [
    {
     "data": {
      "text/plain": [
       "array(['Winter', 'Spring', 'Summer', 'Fall'], dtype=object)"
      ]
     },
     "execution_count": 5,
     "metadata": {},
     "output_type": "execute_result"
    }
   ],
   "source": [
    "pd.unique(dfR['season'])"
   ]
  },
  {
   "cell_type": "code",
   "execution_count": 6,
   "metadata": {},
   "outputs": [],
   "source": [
    "# Subset temp data by the seasons\n",
    "winter = dfR[dfR['season']=='Winter']\n",
    "winter = winter['temp']\n",
    "spring = dfR[dfR['season']=='Spring']\n",
    "spring = spring['temp']\n",
    "summer = dfR[dfR['season']=='Summer']\n",
    "summer = summer['temp']\n",
    "fall = dfR[dfR['season']=='Fall']\n",
    "fall = fall['temp']"
   ]
  },
  {
   "cell_type": "code",
   "execution_count": 7,
   "metadata": {},
   "outputs": [],
   "source": [
    "# Compute ECDFs\n",
    "x_wi, y_wi = ecdf(winter)\n",
    "x_sp, y_sp = ecdf(spring)\n",
    "x_su, y_su = ecdf(summer)\n",
    "x_fa, y_fa = ecdf(fall)"
   ]
  },
  {
   "cell_type": "code",
   "execution_count": 8,
   "metadata": {},
   "outputs": [
    {
     "data": {
      "text/plain": [
       "<matplotlib.legend.Legend at 0x2b43c0232b0>"
      ]
     },
     "execution_count": 8,
     "metadata": {},
     "output_type": "execute_result"
    },
    {
     "data": {
      "image/png": "[encoded data removed]",
      "text/plain": [
       "<Figure size 432x288 with 1 Axes>"
      ]
     },
     "metadata": {
      "needs_background": "light"
     },
     "output_type": "display_data"
    }
   ],
   "source": [
    "# Plot all ECDFs on the same plot\n",
    "_= plt.plot(x_wi, y_wi, marker='.', linestyle='none')\n",
    "_= plt.plot(x_sp, y_sp, marker='.', linestyle='none')\n",
    "_= plt.plot(x_su, y_su, marker='.', linestyle='none')\n",
    "_= plt.plot(x_fa, y_fa, marker='.', linestyle='none')\n",
    "\n",
    "# Annotate the plot\n",
    "plt.legend(('Winter', 'Spring', 'Summer','Fall'), loc='lower right')\n",
    "_ = plt.xlabel('Temperature (F)')\n",
    "_ = plt.ylabel('ECDF')\n",
    "\n",
    "# Display the plot\n",
    "plt.show()"
   ]
  },
  {
   "cell_type": "markdown",
   "metadata": {},
   "source": [
    "You will now use your ecdf() function to compute the ECDFs for the Houston temperature differentiated by decades. You will then plot the ECDFs."
   ]
  },
  {
   "cell_type": "code",
   "execution_count": 9,
   "metadata": {},
   "outputs": [],
   "source": [
    "# Subset temp data by decades\n",
    "the1970s = dfR.loc['1973':'1979']\n",
    "the1970s = the1970s['temp']\n",
    "the1980s = dfR.loc['1980':'1989']\n",
    "the1980s = the1980s['temp']\n",
    "the1990s = dfR.loc['1990':'1999']\n",
    "the1990s = the1990s['temp']\n",
    "the2000s = dfR.loc['2000':'2009']\n",
    "the2000s = the2000s['temp']\n",
    "the2010s = dfR.loc['2010':'2017']\n",
    "the2010s = the2010s['temp']"
   ]
  },
  {
   "cell_type": "code",
   "execution_count": 10,
   "metadata": {},
   "outputs": [],
   "source": [
    "# Compute ECDFs\n",
    "x_70, y_70 = ecdf(the1970s)\n",
    "x_80, y_80 = ecdf(the1980s)\n",
    "x_90, y_90 = ecdf(the1990s)\n",
    "x_20, y_20 = ecdf(the2000s)\n",
    "x_21, y_21 = ecdf(the2010s)"
   ]
  },
  {
   "cell_type": "code",
   "execution_count": 11,
   "metadata": {},
   "outputs": [
    {
     "data": {
      "text/plain": [
       "<matplotlib.legend.Legend at 0x2b4417b3cf8>"
      ]
     },
     "execution_count": 11,
     "metadata": {},
     "output_type": "execute_result"
    },
    {
     "data": {
      "image/png": "[encoded data removed]",
      "text/plain": [
       "<Figure size 432x288 with 1 Axes>"
      ]
     },
     "metadata": {
      "needs_background": "light"
     },
     "output_type": "display_data"
    }
   ],
   "source": [
    "# Plot all ECDFs on the same plot\n",
    "_= plt.plot(x_70, y_70, marker='.', linestyle='none')\n",
    "_= plt.plot(x_80, y_80, marker='.', linestyle='none')\n",
    "_= plt.plot(x_90, y_90, marker='.', linestyle='none')\n",
    "_= plt.plot(x_20, y_20, marker='.', linestyle='none')\n",
    "_= plt.plot(x_21, y_21, marker='.', linestyle='none')\n",
    "\n",
    "# Annotate the plot\n",
    "plt.legend(('the1970s', 'the1980s', 'the1990s','the2000s','the2010s'), loc='lower right')\n",
    "_ = plt.xlabel('Temperature (F)')\n",
    "_ = plt.ylabel('ECDF')\n",
    "\n",
    "# Display the plot\n",
    "plt.show()"
   ]
  },
  {
   "cell_type": "markdown",
   "metadata": {},
   "source": [
    "## Temperature Autocorrelation"
   ]
  },
  {
   "cell_type": "markdown",
   "metadata": {},
   "source": [
    "### Temperature Autocorrelation by Week"
   ]
  },
  {
   "cell_type": "markdown",
   "metadata": {},
   "source": [
    "You'll look at the autocorrelation of weekly averages of temperatures from 1973 to 2017. "
   ]
  },
  {
   "cell_type": "code",
   "execution_count": 12,
   "metadata": {},
   "outputs": [
    {
     "data": {
      "text/plain": [
       "date\n",
       "1973-01-07    49.398193\n",
       "1973-01-14    35.998780\n",
       "1973-01-21    60.815000\n",
       "1973-01-28    50.210843\n",
       "1973-02-04    54.030921\n",
       "Freq: W-SUN, Name: temp, dtype: float64"
      ]
     },
     "execution_count": 12,
     "metadata": {},
     "output_type": "execute_result"
    }
   ],
   "source": [
    "# Convert the hourly data to weekly average data\n",
    "dfR_wkavg = dfR['temp'].resample('W').mean()  \n",
    "dfR_wkavg.head()"
   ]
  },
  {
   "cell_type": "code",
   "execution_count": 13,
   "metadata": {},
   "outputs": [
    {
     "data": {
      "text/plain": [
       "date\n",
       "1973-01-07         NaN\n",
       "1973-01-14   -0.271253\n",
       "1973-01-21    0.689363\n",
       "1973-01-28   -0.174367\n",
       "1973-02-04    0.076081\n",
       "Freq: W-SUN, Name: temp, dtype: float64"
      ]
     },
     "execution_count": 13,
     "metadata": {},
     "output_type": "execute_result"
    }
   ],
   "source": [
    "# Compute the percentage change of temperatures\n",
    "Tperchg = dfR_wkavg.pct_change()\n",
    "Tperchg.head()"
   ]
  },
  {
   "cell_type": "code",
   "execution_count": 14,
   "metadata": {},
   "outputs": [
    {
     "name": "stdout",
     "output_type": "stream",
     "text": [
      "The autocorrelation of weekly % change of temperatures is  -0.33\n"
     ]
    }
   ],
   "source": [
    "# Compute and print the autocorrelation of % change of temperatures\n",
    "autocorrelation = Tperchg.autocorr()\n",
    "print(\"The autocorrelation of weekly % change of temperatures is \", round(autocorrelation,2))"
   ]
  },
  {
   "cell_type": "markdown",
   "metadata": {},
   "source": [
    "## Is Temperature Correlated with Pressure"
   ]
  },
  {
   "cell_type": "markdown",
   "metadata": {},
   "source": [
    "### Daily Averages"
   ]
  },
  {
   "cell_type": "markdown",
   "metadata": {},
   "source": [
    "You'll look to see if percent changes in temperature and pressure daily averages for data from 1973 to 2017 are correlated"
   ]
  },
  {
   "cell_type": "markdown",
   "metadata": {},
   "source": [
    "Two trending series may show a strong correlation even if they are completely unrelated. This is referred to as \"spurious correlation\". That's why we look at the percent changes and not their levels when calculating correlations"
   ]
  },
  {
   "cell_type": "code",
   "execution_count": 15,
   "metadata": {},
   "outputs": [
    {
     "data": {
      "text/plain": [
       "date\n",
       "1973-01-01    47.166667\n",
       "1973-01-02    45.508333\n",
       "1973-01-03    51.429167\n",
       "1973-01-04    52.808333\n",
       "1973-01-05    59.577273\n",
       "Freq: D, Name: temp, dtype: float64"
      ]
     },
     "execution_count": 15,
     "metadata": {},
     "output_type": "execute_result"
    },
    {
     "data": {
      "text/plain": [
       "date\n",
       "1973-01-01    30.152917\n",
       "1973-01-02    30.063750\n",
       "1973-01-03    29.971250\n",
       "1973-01-04    30.120417\n",
       "1973-01-05    29.997273\n",
       "Freq: D, Name: pressure, dtype: float64"
      ]
     },
     "execution_count": 15,
     "metadata": {},
     "output_type": "execute_result"
    }
   ],
   "source": [
    "# Convert the hourly data to daily average data\n",
    "dfR_dTavg = dfR['temp'].resample('D').mean()\n",
    "dfR_dPavg = dfR['pressure'].resample('D').mean()\n",
    "dfR_dTavg.head()\n",
    "dfR_dPavg.head()"
   ]
  },
  {
   "cell_type": "code",
   "execution_count": 16,
   "metadata": {},
   "outputs": [
    {
     "data": {
      "text/plain": [
       "date\n",
       "1973-01-01         NaN\n",
       "1973-01-02   -0.035159\n",
       "1973-01-03    0.130104\n",
       "1973-01-04    0.026817\n",
       "1973-01-05    0.128179\n",
       "Freq: D, Name: temp, dtype: float64"
      ]
     },
     "execution_count": 16,
     "metadata": {},
     "output_type": "execute_result"
    },
    {
     "data": {
      "text/plain": [
       "date\n",
       "1973-01-01         NaN\n",
       "1973-01-02   -0.002957\n",
       "1973-01-03   -0.003077\n",
       "1973-01-04    0.004977\n",
       "1973-01-05   -0.004088\n",
       "Freq: D, Name: pressure, dtype: float64"
      ]
     },
     "execution_count": 16,
     "metadata": {},
     "output_type": "execute_result"
    }
   ],
   "source": [
    "# Compute percent changes\n",
    "changesT = dfR_dTavg.pct_change()\n",
    "changesP = dfR_dPavg.pct_change()\n",
    "changesT.head()\n",
    "changesP.head()"
   ]
  },
  {
   "cell_type": "code",
   "execution_count": 17,
   "metadata": {},
   "outputs": [
    {
     "name": "stdout",
     "output_type": "stream",
     "text": [
      "Correlation of changes:  -0.61\n"
     ]
    }
   ],
   "source": [
    "# Compute correlation of percent changes\n",
    "correlationTP = changesT.corr(changesP)\n",
    "print(\"Correlation of changes: \", round(correlationTP,2))"
   ]
  },
  {
   "cell_type": "markdown",
   "metadata": {},
   "source": [
    "Scatter plots are also useful for visualizing the correlation between the two variables."
   ]
  },
  {
   "cell_type": "markdown",
   "metadata": {},
   "source": [
    "Keep in mind that you should compute the correlations on the percentage changes rather than the levels."
   ]
  },
  {
   "cell_type": "code",
   "execution_count": 18,
   "metadata": {},
   "outputs": [
    {
     "data": {
      "image/png": "[encoded data removed]",
      "text/plain": [
       "<Figure size 432x288 with 1 Axes>"
      ]
     },
     "metadata": {
      "needs_background": "light"
     },
     "output_type": "display_data"
    }
   ],
   "source": [
    "# Make scatter plot\n",
    "_= plt.scatter(changesT,changesP)\n",
    "_= plt.xlabel('% changesT')\n",
    "_= plt.ylabel('% changesP')\n",
    "plt.show()"
   ]
  },
  {
   "cell_type": "markdown",
   "metadata": {},
   "source": [
    "### Hourly Averages"
   ]
  },
  {
   "cell_type": "code",
   "execution_count": 19,
   "metadata": {},
   "outputs": [
    {
     "data": {
      "text/plain": [
       "date\n",
       "1973-01-01 00:00:00         NaN\n",
       "1973-01-01 01:00:00    0.018519\n",
       "1973-01-01 02:00:00   -0.018182\n",
       "1973-01-01 03:00:00    0.000000\n",
       "1973-01-01 04:00:00    0.000000\n",
       "Name: temp, dtype: float64"
      ]
     },
     "execution_count": 19,
     "metadata": {},
     "output_type": "execute_result"
    },
    {
     "data": {
      "text/plain": [
       "date\n",
       "1973-01-01 00:00:00         NaN\n",
       "1973-01-01 01:00:00    0.000000\n",
       "1973-01-01 02:00:00   -0.000996\n",
       "1973-01-01 03:00:00    0.000997\n",
       "1973-01-01 04:00:00    0.000000\n",
       "Name: pressure, dtype: float64"
      ]
     },
     "execution_count": 19,
     "metadata": {},
     "output_type": "execute_result"
    }
   ],
   "source": [
    "# Compute percent changes\n",
    "changesT = dfR['temp'].pct_change()\n",
    "changesP = dfR['pressure'].pct_change()\n",
    "changesT.head()\n",
    "changesP.head()"
   ]
  },
  {
   "cell_type": "code",
   "execution_count": 20,
   "metadata": {},
   "outputs": [
    {
     "name": "stdout",
     "output_type": "stream",
     "text": [
      "Correlation of changes:  -0.097\n"
     ]
    }
   ],
   "source": [
    "# Compute correlation of percent changes\n",
    "correlationTP = changesT.corr(changesP)\n",
    "print(\"Correlation of changes: \", round(correlationTP,3))"
   ]
  },
  {
   "cell_type": "code",
   "execution_count": 21,
   "metadata": {},
   "outputs": [
    {
     "data": {
      "image/png": "[encoded data removed]",
      "text/plain": [
       "<Figure size 432x288 with 1 Axes>"
      ]
     },
     "metadata": {
      "needs_background": "light"
     },
     "output_type": "display_data"
    }
   ],
   "source": [
    "# Make scatter plot\n",
    "_= plt.scatter(changesT,changesP,color='red')\n",
    "_= plt.xlabel('% changesT')\n",
    "_= plt.ylabel('% changesP')\n",
    "plt.show()"
   ]
  },
  {
   "cell_type": "markdown",
   "metadata": {},
   "source": [
    "## Is Dew-Point Temperature Correlated with Pressure"
   ]
  },
  {
   "cell_type": "markdown",
   "metadata": {},
   "source": [
    "You'll look to see if percent changes in dew-point temperature and pressure daily averages for data from 1973 to 2017 are correlated"
   ]
  },
  {
   "cell_type": "markdown",
   "metadata": {},
   "source": [
    "### Daily Averages"
   ]
  },
  {
   "cell_type": "code",
   "execution_count": 22,
   "metadata": {},
   "outputs": [
    {
     "data": {
      "text/plain": [
       "date\n",
       "1973-01-01    40.954167\n",
       "1973-01-02    42.420833\n",
       "1973-01-03    43.683333\n",
       "1973-01-04    43.804167\n",
       "1973-01-05    57.363636\n",
       "Freq: D, Name: dew_pt, dtype: float64"
      ]
     },
     "execution_count": 22,
     "metadata": {},
     "output_type": "execute_result"
    },
    {
     "data": {
      "text/plain": [
       "date\n",
       "1973-01-01    30.152917\n",
       "1973-01-02    30.063750\n",
       "1973-01-03    29.971250\n",
       "1973-01-04    30.120417\n",
       "1973-01-05    29.997273\n",
       "Freq: D, Name: pressure, dtype: float64"
      ]
     },
     "execution_count": 22,
     "metadata": {},
     "output_type": "execute_result"
    }
   ],
   "source": [
    "# Convert the hourly data to daily average data\n",
    "dfR_dTavg = dfR['dew_pt'].resample('D').mean()\n",
    "dfR_dPavg = dfR['pressure'].resample('D').mean()\n",
    "dfR_dTavg.head()\n",
    "dfR_dPavg.head()"
   ]
  },
  {
   "cell_type": "code",
   "execution_count": 23,
   "metadata": {},
   "outputs": [
    {
     "data": {
      "text/plain": [
       "date\n",
       "1973-01-01         NaN\n",
       "1973-01-02    0.035812\n",
       "1973-01-03    0.029761\n",
       "1973-01-04    0.002766\n",
       "1973-01-05    0.309547\n",
       "Freq: D, Name: dew_pt, dtype: float64"
      ]
     },
     "execution_count": 23,
     "metadata": {},
     "output_type": "execute_result"
    },
    {
     "data": {
      "text/plain": [
       "date\n",
       "1973-01-01         NaN\n",
       "1973-01-02   -0.002957\n",
       "1973-01-03   -0.003077\n",
       "1973-01-04    0.004977\n",
       "1973-01-05   -0.004088\n",
       "Freq: D, Name: pressure, dtype: float64"
      ]
     },
     "execution_count": 23,
     "metadata": {},
     "output_type": "execute_result"
    }
   ],
   "source": [
    "# Compute correlation of percent changes\n",
    "changesT = dfR_dTavg.pct_change()\n",
    "changesP = dfR_dPavg.pct_change()\n",
    "changesT.head()\n",
    "changesP.head()"
   ]
  },
  {
   "cell_type": "code",
   "execution_count": 24,
   "metadata": {},
   "outputs": [
    {
     "name": "stdout",
     "output_type": "stream",
     "text": [
      "Correlation of changes:  -0.59\n"
     ]
    }
   ],
   "source": [
    "# Compute correlation of percent changes\n",
    "correlationTP = changesT.corr(changesP)\n",
    "print(\"Correlation of changes: \", round(correlationTP,2))"
   ]
  },
  {
   "cell_type": "code",
   "execution_count": 25,
   "metadata": {},
   "outputs": [
    {
     "data": {
      "image/png": "[encoded data removed]",
      "text/plain": [
       "<Figure size 432x288 with 1 Axes>"
      ]
     },
     "metadata": {
      "needs_background": "light"
     },
     "output_type": "display_data"
    }
   ],
   "source": [
    "# Make scatter plot\n",
    "_= plt.scatter(changesT,changesP)\n",
    "_= plt.xlabel('% changesT')\n",
    "_= plt.ylabel('% changesP')\n",
    "plt.show()"
   ]
  },
  {
   "cell_type": "markdown",
   "metadata": {},
   "source": [
    "### Hourly Averages"
   ]
  },
  {
   "cell_type": "code",
   "execution_count": 26,
   "metadata": {},
   "outputs": [
    {
     "data": {
      "text/plain": [
       "date\n",
       "1973-01-01 00:00:00         NaN\n",
       "1973-01-01 01:00:00    0.025641\n",
       "1973-01-01 02:00:00    0.000000\n",
       "1973-01-01 03:00:00   -0.025000\n",
       "1973-01-01 04:00:00    0.000000\n",
       "Name: dew_pt, dtype: float64"
      ]
     },
     "execution_count": 26,
     "metadata": {},
     "output_type": "execute_result"
    },
    {
     "data": {
      "text/plain": [
       "date\n",
       "1973-01-01 00:00:00         NaN\n",
       "1973-01-01 01:00:00    0.000000\n",
       "1973-01-01 02:00:00   -0.000996\n",
       "1973-01-01 03:00:00    0.000997\n",
       "1973-01-01 04:00:00    0.000000\n",
       "Name: pressure, dtype: float64"
      ]
     },
     "execution_count": 26,
     "metadata": {},
     "output_type": "execute_result"
    }
   ],
   "source": [
    "# Compute percent changes\n",
    "changesT = dfR['dew_pt'].pct_change()\n",
    "changesP = dfR['pressure'].pct_change()\n",
    "changesT.head()\n",
    "changesP.head()"
   ]
  },
  {
   "cell_type": "code",
   "execution_count": 27,
   "metadata": {},
   "outputs": [
    {
     "name": "stdout",
     "output_type": "stream",
     "text": [
      "Correlation of changes:  0.003\n"
     ]
    }
   ],
   "source": [
    "# Compute correlation of percent changes\n",
    "correlationTP = changesT.corr(changesP)\n",
    "print(\"Correlation of changes: \", round(correlationTP,3))"
   ]
  },
  {
   "cell_type": "code",
   "execution_count": 28,
   "metadata": {},
   "outputs": [
    {
     "data": {
      "image/png": "[encoded data removed]",
      "text/plain": [
       "<Figure size 432x288 with 1 Axes>"
      ]
     },
     "metadata": {
      "needs_background": "light"
     },
     "output_type": "display_data"
    }
   ],
   "source": [
    "# Make scatter plot\n",
    "_= plt.scatter(changesT,changesP,color='red')\n",
    "_= plt.xlabel('% changesT')\n",
    "_= plt.ylabel('% changesP')\n",
    "plt.show()"
   ]
  },
  {
   "cell_type": "markdown",
   "metadata": {},
   "source": [
    "## Is Temperature Correlated with Dew-Point Temperature"
   ]
  },
  {
   "cell_type": "markdown",
   "metadata": {},
   "source": [
    "### Daily Averages"
   ]
  },
  {
   "cell_type": "code",
   "execution_count": 29,
   "metadata": {},
   "outputs": [
    {
     "data": {
      "text/plain": [
       "date\n",
       "1973-01-01    47.166667\n",
       "1973-01-02    45.508333\n",
       "1973-01-03    51.429167\n",
       "1973-01-04    52.808333\n",
       "1973-01-05    59.577273\n",
       "Freq: D, Name: temp, dtype: float64"
      ]
     },
     "execution_count": 29,
     "metadata": {},
     "output_type": "execute_result"
    },
    {
     "data": {
      "text/plain": [
       "date\n",
       "1973-01-01    40.954167\n",
       "1973-01-02    42.420833\n",
       "1973-01-03    43.683333\n",
       "1973-01-04    43.804167\n",
       "1973-01-05    57.363636\n",
       "Freq: D, Name: dew_pt, dtype: float64"
      ]
     },
     "execution_count": 29,
     "metadata": {},
     "output_type": "execute_result"
    }
   ],
   "source": [
    "# Convert the hourly data to daily average data\n",
    "dfR_dTavg = dfR['temp'].resample('D').mean()\n",
    "dfR_dTDavg = dfR['dew_pt'].resample('D').mean()\n",
    "dfR_dTavg.head()\n",
    "dfR_dTDavg.head()"
   ]
  },
  {
   "cell_type": "code",
   "execution_count": 30,
   "metadata": {},
   "outputs": [
    {
     "data": {
      "text/plain": [
       "date\n",
       "1973-01-01         NaN\n",
       "1973-01-02   -0.035159\n",
       "1973-01-03    0.130104\n",
       "1973-01-04    0.026817\n",
       "1973-01-05    0.128179\n",
       "Freq: D, Name: temp, dtype: float64"
      ]
     },
     "execution_count": 30,
     "metadata": {},
     "output_type": "execute_result"
    },
    {
     "data": {
      "text/plain": [
       "date\n",
       "1973-01-01         NaN\n",
       "1973-01-02    0.035812\n",
       "1973-01-03    0.029761\n",
       "1973-01-04    0.002766\n",
       "1973-01-05    0.309547\n",
       "Freq: D, Name: dew_pt, dtype: float64"
      ]
     },
     "execution_count": 30,
     "metadata": {},
     "output_type": "execute_result"
    }
   ],
   "source": [
    "# Compute percent changes\n",
    "changesT = dfR_dTavg.pct_change()\n",
    "changesTD = dfR_dTDavg.pct_change()\n",
    "changesT.head()\n",
    "changesTD.head()"
   ]
  },
  {
   "cell_type": "code",
   "execution_count": 31,
   "metadata": {},
   "outputs": [
    {
     "name": "stdout",
     "output_type": "stream",
     "text": [
      "Correlation of changes:  0.702\n"
     ]
    }
   ],
   "source": [
    "# Compute correlation of percent changes\n",
    "correlationTT = changesT.corr(changesTD)\n",
    "print(\"Correlation of changes: \", round(correlationTT,3))"
   ]
  },
  {
   "cell_type": "code",
   "execution_count": 32,
   "metadata": {},
   "outputs": [
    {
     "data": {
      "image/png": "[encoded data removed]",
      "text/plain": [
       "<Figure size 432x288 with 1 Axes>"
      ]
     },
     "metadata": {
      "needs_background": "light"
     },
     "output_type": "display_data"
    }
   ],
   "source": [
    "# Make scatter plot\n",
    "_= plt.scatter(changesT,changesTD)\n",
    "_= plt.xlabel('% changesT')\n",
    "_= plt.ylabel('% changesTD')\n",
    "plt.show()"
   ]
  },
  {
   "cell_type": "markdown",
   "metadata": {},
   "source": [
    "### Hourly Averages"
   ]
  },
  {
   "cell_type": "code",
   "execution_count": 33,
   "metadata": {},
   "outputs": [
    {
     "data": {
      "text/plain": [
       "date\n",
       "1973-01-01 00:00:00         NaN\n",
       "1973-01-01 01:00:00    0.018519\n",
       "1973-01-01 02:00:00   -0.018182\n",
       "1973-01-01 03:00:00    0.000000\n",
       "1973-01-01 04:00:00    0.000000\n",
       "Name: temp, dtype: float64"
      ]
     },
     "execution_count": 33,
     "metadata": {},
     "output_type": "execute_result"
    },
    {
     "data": {
      "text/plain": [
       "date\n",
       "1973-01-01 00:00:00         NaN\n",
       "1973-01-01 01:00:00    0.025641\n",
       "1973-01-01 02:00:00    0.000000\n",
       "1973-01-01 03:00:00   -0.025000\n",
       "1973-01-01 04:00:00    0.000000\n",
       "Name: dew_pt, dtype: float64"
      ]
     },
     "execution_count": 33,
     "metadata": {},
     "output_type": "execute_result"
    }
   ],
   "source": [
    "# Compute percent changes\n",
    "changesT = dfR['temp'].pct_change()\n",
    "changesTD = dfR['dew_pt'].pct_change()\n",
    "changesT.head()\n",
    "changesTD.head()"
   ]
  },
  {
   "cell_type": "code",
   "execution_count": 34,
   "metadata": {},
   "outputs": [
    {
     "name": "stdout",
     "output_type": "stream",
     "text": [
      "Correlation of changes:  0.052\n"
     ]
    }
   ],
   "source": [
    "# Compute correlation of percent changes\n",
    "correlationTT = changesT.corr(changesTD)\n",
    "print(\"Correlation of changes: \", round(correlationTT,3))"
   ]
  },
  {
   "cell_type": "code",
   "execution_count": 35,
   "metadata": {},
   "outputs": [
    {
     "data": {
      "image/png": "[encoded data removed]",
      "text/plain": [
       "<Figure size 432x288 with 1 Axes>"
      ]
     },
     "metadata": {
      "needs_background": "light"
     },
     "output_type": "display_data"
    }
   ],
   "source": [
    "# Make scatter plot\n",
    "_= plt.scatter(changesT,changesTD,color ='red')\n",
    "_= plt.xlabel('% changesT')\n",
    "_= plt.ylabel('% changesTD')\n",
    "plt.show()"
   ]
  },
  {
   "cell_type": "markdown",
   "metadata": {},
   "source": [
    "## Autocorrelation Function"
   ]
  },
  {
   "cell_type": "markdown",
   "metadata": {},
   "source": [
    "Autocorrelation describes correlation of a variable with itself given a time lag.  \n",
    "Autocorrelation Function (ACF): The autocorrelation as a function of the lag.  \n",
    "Equals one at lag-zero.  \n",
    "Interesting information beyond lag-one.  "
   ]
  },
  {
   "cell_type": "markdown",
   "metadata": {},
   "source": [
    "### Quarterly Average Temperatures"
   ]
  },
  {
   "cell_type": "markdown",
   "metadata": {},
   "source": [
    "Compute the array of autocorrelations for the Houston mean quarterly temperatures from 1973 to 2017."
   ]
  },
  {
   "cell_type": "code",
   "execution_count": 75,
   "metadata": {
    "cell_style": "center"
   },
   "outputs": [
    {
     "data": {
      "text/plain": [
       "date\n",
       "1973-03-31    55.911669\n",
       "1973-06-30    73.495227\n",
       "1973-09-30    80.538871\n",
       "1973-12-31    65.709977\n",
       "1974-03-31    60.968630\n",
       "                ...    \n",
       "2016-12-31    67.862697\n",
       "2017-03-31    65.220960\n",
       "2017-06-30    76.732559\n",
       "2017-09-30    83.683104\n",
       "2017-12-31    67.219555\n",
       "Freq: Q-DEC, Name: temp, Length: 180, dtype: float64"
      ]
     },
     "execution_count": 75,
     "metadata": {},
     "output_type": "execute_result"
    }
   ],
   "source": [
    "# Down sample hourly temperatures to quarterly means\n",
    "TqAvg = dfR['temp'].resample('Q').mean()\n",
    "TqAvg"
   ]
  },
  {
   "cell_type": "code",
   "execution_count": 87,
   "metadata": {
    "cell_style": "center"
   },
   "outputs": [
    {
     "data": {
      "image/png": "[encoded data removed]",
      "text/plain": [
       "<Figure size 432x288 with 1 Axes>"
      ]
     },
     "metadata": {
      "needs_background": "light"
     },
     "output_type": "display_data"
    }
   ],
   "source": [
    "_= plt.plot(TqAvg)\n",
    "_= plt.xlim('2000','2003')\n",
    "_= plt.xticks(rotation=45)\n",
    "plt.show()"
   ]
  },
  {
   "cell_type": "code",
   "execution_count": 38,
   "metadata": {},
   "outputs": [],
   "source": [
    "# Import the acf module and the plot_acf module from statsmodels\n",
    "from statsmodels.tsa.stattools import acf\n",
    "from statsmodels.graphics.tsaplots import plot_acf"
   ]
  },
  {
   "cell_type": "code",
   "execution_count": 39,
   "metadata": {},
   "outputs": [
    {
     "name": "stdout",
     "output_type": "stream",
     "text": [
      "[ 1.          0.01470663 -0.92887366  0.01279316  0.95128187  0.01269397\n",
      " -0.91992792  0.00467187  0.92040788  0.00472571 -0.90654095  0.00291051\n",
      "  0.90005892  0.00787491 -0.87837573  0.00418026  0.88279261  0.01689751\n",
      " -0.84919971  0.00349559  0.85520984  0.01230784 -0.82080404  0.00125554\n",
      "  0.82782852  0.00751776 -0.79485775  0.00140048  0.79949768  0.00581563\n",
      " -0.77526086  0.00203301  0.76775272  0.00843115 -0.75155939  0.00282165\n",
      "  0.74709489  0.00394324 -0.7328235   0.00287414  0.72927306]\n"
     ]
    },
    {
     "name": "stderr",
     "output_type": "stream",
     "text": [
      "C:\\Users\\raini\\Anaconda3\\envs\\py37\\lib\\site-packages\\statsmodels\\tsa\\stattools.py:541: FutureWarning: fft=True will become the default in a future version of statsmodels. To suppress this warning, explicitly set fft=False.\n",
      "  warnings.warn(msg, FutureWarning)\n"
     ]
    }
   ],
   "source": [
    "# Compute the acf array of TqAvg\n",
    "acf_array = acf(TqAvg)\n",
    "print(acf_array)"
   ]
  },
  {
   "cell_type": "code",
   "execution_count": 40,
   "metadata": {},
   "outputs": [
    {
     "name": "stdout",
     "output_type": "stream",
     "text": [
      "The Lag 2 autocorrelation of Quarterly Temperatures is -0.94\n"
     ]
    }
   ],
   "source": [
    "# Compute and print the autocorrelation of Quarterly Temperatures - Lag 2\n",
    "autocorrelation = TqAvg.autocorr(lag=2)\n",
    "print(\"The Lag 2 autocorrelation of Quarterly Temperatures is %4.2f\" %(autocorrelation))"
   ]
  },
  {
   "cell_type": "markdown",
   "metadata": {},
   "source": [
    "That autocorrelation seems large, but is it statistically significant? In other words, can you say that there is less than a 5% chance that we would observe such a large negative autocorrelation if the true autocorrelation were really zero? And are the autocorrelations at other lags that are significantly different from zero?\n",
    "\n",
    "Even if the true autocorrelations were zero at all lags, in a finite sample of returns you won't see the estimate of the autocorrelations exactly zero. In fact, the standard deviation of the sample autocorrelation is 1/sqrt(N) where N is the number of observations, so if N=100, for example, the standard deviation of the ACF is 0.1, and since 95% of a normal curve is between +1.96 and -1.96 standard deviations from the mean, the 95% confidence interval is ±1.96/sqrt(N). This approximation only holds when the true autocorrelations are all zero."
   ]
  },
  {
   "cell_type": "code",
   "execution_count": 41,
   "metadata": {},
   "outputs": [
    {
     "data": {
      "text/plain": [
       "180"
      ]
     },
     "execution_count": 41,
     "metadata": {},
     "output_type": "execute_result"
    }
   ],
   "source": [
    "# Find the number of observations\n",
    "nobs = len(TqAvg)\n",
    "nobs"
   ]
  },
  {
   "cell_type": "code",
   "execution_count": 42,
   "metadata": {},
   "outputs": [
    {
     "name": "stdout",
     "output_type": "stream",
     "text": [
      "The approximate confidence interval is +/- 0.15\n"
     ]
    }
   ],
   "source": [
    "# Compute the approximate confidence interval\n",
    "from math import sqrt\n",
    "conf = 1.96/sqrt(nobs)\n",
    "print(\"The approximate confidence interval is +/- %4.2f\" %(conf))"
   ]
  },
  {
   "cell_type": "code",
   "execution_count": 43,
   "metadata": {
    "cell_style": "center"
   },
   "outputs": [
    {
     "data": {
      "image/png": "[encoded data removed]",
      "text/plain": [
       "<Figure size 432x288 with 1 Axes>"
      ]
     },
     "metadata": {
      "needs_background": "light"
     },
     "output_type": "display_data"
    }
   ],
   "source": [
    "# Plot the autocorrelation function with 95% confidence intervals and 14 lags\n",
    "_= plot_acf(TqAvg, alpha=0.05, lags=14)\n",
    "_= plt.show()"
   ]
  },
  {
   "cell_type": "markdown",
   "metadata": {
    "cell_style": "center"
   },
   "source": [
    "Confidence intervals are drawn as a cone. By default, this is set to a 95% confidence interval, suggesting that correlation values outside of this code are very likely a correlation and not a statistical fluke.  \n",
    "Notice the strong positive/negative autocorrelations at lags 2, 4, 6, 8, 10, ...etc.  \n",
    "All even number of lags are significantly different from zero."
   ]
  },
  {
   "cell_type": "markdown",
   "metadata": {},
   "source": [
    "### Seasonal Adjustment of Quarterly Temperatures"
   ]
  },
  {
   "cell_type": "markdown",
   "metadata": {},
   "source": [
    "Apply a seasonal adjustment by taking the fourth difference (four represents the periodicity of the series). Then compute the autocorrelation of the transformed series."
   ]
  },
  {
   "cell_type": "code",
   "execution_count": 44,
   "metadata": {},
   "outputs": [
    {
     "name": "stdout",
     "output_type": "stream",
     "text": [
      "date\n",
      "1973-03-31         NaN\n",
      "1973-06-30         NaN\n",
      "1973-09-30         NaN\n",
      "1973-12-31         NaN\n",
      "1974-03-31    5.056961\n",
      "1974-06-30    2.312284\n",
      "1974-09-30   -0.993994\n",
      "1974-12-31   -2.602505\n",
      "1975-03-31   -1.386382\n",
      "1975-06-30   -0.324280\n",
      "Freq: Q-DEC, Name: temp, dtype: float64\n"
     ]
    }
   ],
   "source": [
    "# Seasonally adjust quarterly earnings\n",
    "TqAvgsa = TqAvg.diff(periods = 4)\n",
    "# Print the first 10 rows of the seasonally adjusted series\n",
    "print(TqAvgsa.head(10))"
   ]
  },
  {
   "cell_type": "code",
   "execution_count": 45,
   "metadata": {},
   "outputs": [
    {
     "name": "stdout",
     "output_type": "stream",
     "text": [
      "date\n",
      "1974-03-31    5.056961\n",
      "1974-06-30    2.312284\n",
      "1974-09-30   -0.993994\n",
      "1974-12-31   -2.602505\n",
      "1975-03-31   -1.386382\n",
      "1975-06-30   -0.324280\n",
      "1975-09-30   -0.068070\n",
      "1975-12-31   -1.301815\n",
      "1976-03-31   -0.704560\n",
      "1976-06-30   -1.950791\n",
      "Freq: Q-DEC, Name: temp, dtype: float64\n"
     ]
    }
   ],
   "source": [
    "# Drop the NaN data in the first four rows\n",
    "TqAvgsa = TqAvgsa.dropna()\n",
    "# Print the first 10 rows of the seasonally adjusted series\n",
    "print(TqAvgsa.head(10))"
   ]
  },
  {
   "cell_type": "code",
   "execution_count": 46,
   "metadata": {},
   "outputs": [
    {
     "data": {
      "image/png": "[encoded data removed]",
      "text/plain": [
       "<Figure size 432x288 with 1 Axes>"
      ]
     },
     "metadata": {
      "needs_background": "light"
     },
     "output_type": "display_data"
    }
   ],
   "source": [
    "_= plt.plot(TqAvgsa)\n",
    "_= plt.title('Seasonally adjusted quarterly Temperatures')\n",
    "plt.show()"
   ]
  },
  {
   "cell_type": "code",
   "execution_count": 47,
   "metadata": {},
   "outputs": [
    {
     "data": {
      "image/png": "[encoded data removed]",
      "text/plain": [
       "<Figure size 432x288 with 1 Axes>"
      ]
     },
     "metadata": {
      "needs_background": "light"
     },
     "output_type": "display_data"
    }
   ],
   "source": [
    "# Plot the autocorrelation function of the seasonally adjusted series\n",
    "_= plot_acf(TqAvgsa)\n",
    "plt.show()"
   ]
  },
  {
   "cell_type": "markdown",
   "metadata": {},
   "source": [
    "By seasonally adjusting the series, we eliminated the seasonal pattern in the autocorrelation function"
   ]
  },
  {
   "cell_type": "markdown",
   "metadata": {},
   "source": [
    "### Temperature Autocorrelation - Details  - Lag 2 Quarters"
   ]
  },
  {
   "cell_type": "code",
   "execution_count": 48,
   "metadata": {
    "scrolled": true
   },
   "outputs": [
    {
     "data": {
      "text/plain": [
       "array([55.91166906, 73.49522673, 80.53887074, 65.70997691, 60.96863027,\n",
       "       75.80751063, 79.54487714, 63.10747232, 59.58224824, 75.4832304 ])"
      ]
     },
     "execution_count": 48,
     "metadata": {},
     "output_type": "execute_result"
    }
   ],
   "source": [
    "# Convert to array the average quarterly temperatures\n",
    "Temp = np.array(TqAvg)\n",
    "Temp[0:10]"
   ]
  },
  {
   "cell_type": "code",
   "execution_count": 49,
   "metadata": {},
   "outputs": [
    {
     "data": {
      "text/plain": [
       "array([80.53887074, 65.70997691, 60.96863027, 75.80751063, 79.54487714,\n",
       "       63.10747232, 59.58224824, 75.4832304 , 79.47680751, 61.80565777])"
      ]
     },
     "execution_count": 49,
     "metadata": {},
     "output_type": "execute_result"
    }
   ],
   "source": [
    "# Shift forward two quarters\n",
    "day_i_Temp = Temp[2:]\n",
    "day_i_Temp[0:10]"
   ]
  },
  {
   "cell_type": "code",
   "execution_count": 50,
   "metadata": {},
   "outputs": [
    {
     "data": {
      "text/plain": [
       "array([55.91166906, 73.49522673, 80.53887074, 65.70997691, 60.96863027,\n",
       "       75.80751063, 79.54487714, 63.10747232, 59.58224824, 75.4832304 ])"
      ]
     },
     "execution_count": 50,
     "metadata": {},
     "output_type": "execute_result"
    }
   ],
   "source": [
    "# To keep the arrays the same lenght\n",
    "day_i_TempMinus2 = Temp[:-2]\n",
    "day_i_TempMinus2[0:10]"
   ]
  },
  {
   "cell_type": "code",
   "execution_count": 51,
   "metadata": {},
   "outputs": [
    {
     "data": {
      "text/plain": [
       "True"
      ]
     },
     "execution_count": 51,
     "metadata": {},
     "output_type": "execute_result"
    }
   ],
   "source": [
    "len(day_i_TempMinus2)==len(day_i_Temp)"
   ]
  },
  {
   "cell_type": "code",
   "execution_count": 52,
   "metadata": {},
   "outputs": [
    {
     "data": {
      "image/png": "[encoded data removed]",
      "text/plain": [
       "<Figure size 432x288 with 1 Axes>"
      ]
     },
     "metadata": {
      "needs_background": "light"
     },
     "output_type": "display_data"
    }
   ],
   "source": [
    "_= plt.plot(day_i_TempMinus2, day_i_Temp, marker='.', linestyle='none', color='red')\n",
    "_= plt.xlabel(\"Temperature (F)\")\n",
    "_= plt.ylabel(\"Temperature (F) - Lag Two Quarters\")\n",
    "plt.show()"
   ]
  },
  {
   "cell_type": "markdown",
   "metadata": {},
   "source": [
    "### Correlation between Quarterly Average Temperatures and Lag Two Quarter Average Temperatures"
   ]
  },
  {
   "cell_type": "code",
   "execution_count": 53,
   "metadata": {},
   "outputs": [
    {
     "data": {
      "text/plain": [
       "-0.94"
      ]
     },
     "execution_count": 53,
     "metadata": {},
     "output_type": "execute_result"
    }
   ],
   "source": [
    "# Correlation\n",
    "round(np.corrcoef(day_i_Temp,day_i_TempMinus2)[0,1],3)"
   ]
  },
  {
   "cell_type": "code",
   "execution_count": 54,
   "metadata": {},
   "outputs": [],
   "source": [
    "# Linear Fit Line\n",
    "slope, intercept = np.polyfit(day_i_Temp,day_i_TempMinus2,1)"
   ]
  },
  {
   "cell_type": "code",
   "execution_count": 55,
   "metadata": {},
   "outputs": [
    {
     "data": {
      "text/plain": [
       "-0.9401920476197936"
      ]
     },
     "execution_count": 55,
     "metadata": {},
     "output_type": "execute_result"
    }
   ],
   "source": [
    "slope"
   ]
  },
  {
   "cell_type": "code",
   "execution_count": 56,
   "metadata": {},
   "outputs": [
    {
     "data": {
      "text/plain": [
       "135.12698774789698"
      ]
     },
     "execution_count": 56,
     "metadata": {},
     "output_type": "execute_result"
    }
   ],
   "source": [
    "intercept"
   ]
  },
  {
   "cell_type": "markdown",
   "metadata": {},
   "source": [
    "### Quarterly Temperature Correlations for Lags 1 - 14"
   ]
  },
  {
   "cell_type": "code",
   "execution_count": 57,
   "metadata": {},
   "outputs": [
    {
     "data": {
      "text/plain": [
       "array([ 1.        ,  0.01478144, -0.94017491,  0.01300909,  0.96882182,\n",
       "        0.01300884, -0.94638265,  0.00477534,  0.95476243,  0.0050179 ,\n",
       "       -0.95050804,  0.00301041,  0.95484097,  0.00853456, -0.94183952])"
      ]
     },
     "execution_count": 57,
     "metadata": {},
     "output_type": "execute_result"
    }
   ],
   "source": [
    "lags = 14\n",
    "AutCorr = np.ones(lags+1)\n",
    "for shift in range(1,lags+1):\n",
    "     AutCorr[shift] =np.corrcoef(Temp[shift:], Temp[:-shift])[0,1]\n",
    "\n",
    "AutCorr"
   ]
  },
  {
   "cell_type": "code",
   "execution_count": 58,
   "metadata": {},
   "outputs": [
    {
     "data": {
      "image/png": "[encoded data removed]",
      "text/plain": [
       "<Figure size 432x288 with 1 Axes>"
      ]
     },
     "metadata": {
      "needs_background": "light"
     },
     "output_type": "display_data"
    }
   ],
   "source": [
    "_= plt.bar(np.arange(0,lags+1,1),AutCorr,width=0.2)\n",
    "_= plt.xlim(-1,15)\n",
    "_= plt.xlabel('Lag(Quarters)')\n",
    "_= plt.ylabel('Correlation')\n",
    "plt.show()"
   ]
  },
  {
   "cell_type": "markdown",
   "metadata": {},
   "source": [
    "### Monthly Average Temperatures"
   ]
  },
  {
   "cell_type": "code",
   "execution_count": 59,
   "metadata": {},
   "outputs": [
    {
     "data": {
      "text/plain": [
       "date\n",
       "1973-01-31    49.190646\n",
       "1973-02-28    52.646802\n",
       "1973-03-31    65.564454\n",
       "1973-04-30    65.572581\n",
       "1973-05-31    74.870391\n",
       "                ...    \n",
       "2017-08-31    83.503710\n",
       "2017-09-30    81.194689\n",
       "2017-10-31    74.007303\n",
       "2017-11-30    68.401524\n",
       "2017-12-31    56.453077\n",
       "Freq: M, Name: temp, Length: 540, dtype: float64"
      ]
     },
     "execution_count": 59,
     "metadata": {},
     "output_type": "execute_result"
    }
   ],
   "source": [
    "# Down sample hourly temperatures to monthly means\n",
    "TmAvg = dfR['temp'].resample('M').mean()\n",
    "TmAvg"
   ]
  },
  {
   "cell_type": "code",
   "execution_count": 89,
   "metadata": {},
   "outputs": [
    {
     "data": {
      "image/png": "[encoded data removed]",
      "text/plain": [
       "<Figure size 432x288 with 1 Axes>"
      ]
     },
     "metadata": {
      "needs_background": "light"
     },
     "output_type": "display_data"
    }
   ],
   "source": [
    "_= plt.plot(TmAvg)\n",
    "_= plt.xlim('2000','2003')\n",
    "_= plt.xticks(rotation=45)\n",
    "plt.show()"
   ]
  },
  {
   "cell_type": "markdown",
   "metadata": {},
   "source": [
    "### Are Monthly Temperatures a Random Walk"
   ]
  },
  {
   "cell_type": "code",
   "execution_count": 90,
   "metadata": {},
   "outputs": [],
   "source": [
    "# Import the adfuller module from statsmodels\n",
    "from statsmodels.tsa.stattools import adfuller"
   ]
  },
  {
   "cell_type": "code",
   "execution_count": 93,
   "metadata": {},
   "outputs": [
    {
     "name": "stdout",
     "output_type": "stream",
     "text": [
      "The p-value of the test on temperatures is: 0.024987351494066803\n"
     ]
    }
   ],
   "source": [
    "# Run the ADF test on the monthly temperature series and print out the results\n",
    "results = adfuller(TmAvg.dropna())\n",
    "# Print out just the p-value of the test (results[0] is the test statistic, and results[1] is the p-value)\n",
    "print('The p-value of the test on temperatures is: ' + str(results[1]))"
   ]
  },
  {
   "cell_type": "markdown",
   "metadata": {},
   "source": [
    "According to this test, we can reject the hypothesis that monthly temperatures follow a random walk."
   ]
  },
  {
   "cell_type": "markdown",
   "metadata": {},
   "source": [
    "### Autocorrelation of Monthly Temperatures"
   ]
  },
  {
   "cell_type": "code",
   "execution_count": 60,
   "metadata": {},
   "outputs": [
    {
     "name": "stdout",
     "output_type": "stream",
     "text": [
      "[ 1.          0.82570122  0.4710722   0.00337678 -0.45466657 -0.78148039\n",
      " -0.89568893 -0.77175585 -0.44381126  0.01093541  0.47209894  0.8112979\n",
      "  0.92761592  0.79283046  0.44550838 -0.01179678 -0.4598231  -0.77712222\n",
      " -0.88333323 -0.75935599 -0.43126934  0.01390645  0.46350946  0.78648929\n",
      "  0.8933247   0.76044804  0.41733534 -0.03078417 -0.46289735 -0.76760296\n",
      " -0.86989647 -0.74061289 -0.41339533  0.02799774  0.45728597  0.77475563\n",
      "  0.87258728  0.73559172  0.39821    -0.04004938 -0.4561186 ]\n"
     ]
    }
   ],
   "source": [
    "# Compute the acf array of TmonthAvg\n",
    "acf_array = acf(TmAvg, missing='drop')\n",
    "print(acf_array)"
   ]
  },
  {
   "cell_type": "code",
   "execution_count": 61,
   "metadata": {},
   "outputs": [
    {
     "name": "stdout",
     "output_type": "stream",
     "text": [
      "The Lag 6 autocorrelation of Monthly Temperatures is -0.91\n"
     ]
    }
   ],
   "source": [
    "# Compute and print the autocorrelation of monthly Temperatures - Lag 6\n",
    "autocorrelation = TmAvg.autocorr(lag=6)\n",
    "print(\"The Lag 6 autocorrelation of Monthly Temperatures is %4.2f\" %(autocorrelation))"
   ]
  },
  {
   "cell_type": "code",
   "execution_count": 62,
   "metadata": {},
   "outputs": [
    {
     "data": {
      "text/plain": [
       "540"
      ]
     },
     "execution_count": 62,
     "metadata": {},
     "output_type": "execute_result"
    }
   ],
   "source": [
    "# Find the number of observations\n",
    "nobs = len(TmAvg)\n",
    "nobs"
   ]
  },
  {
   "cell_type": "code",
   "execution_count": 63,
   "metadata": {},
   "outputs": [
    {
     "name": "stdout",
     "output_type": "stream",
     "text": [
      "The approximate confidence interval is +/- 0.08\n"
     ]
    }
   ],
   "source": [
    "# Compute the approximate confidence interval\n",
    "from math import sqrt\n",
    "conf = 1.96/sqrt(nobs)\n",
    "print(\"The approximate confidence interval is +/- %4.2f\" %(conf))"
   ]
  },
  {
   "cell_type": "code",
   "execution_count": 64,
   "metadata": {},
   "outputs": [
    {
     "data": {
      "image/png": "[encoded data removed]",
      "text/plain": [
       "<Figure size 432x288 with 1 Axes>"
      ]
     },
     "metadata": {
      "needs_background": "light"
     },
     "output_type": "display_data"
    }
   ],
   "source": [
    "# Plot the autocorrelation function with 95% confidence intervals and 28 lags\n",
    "_= plot_acf(TmAvg.dropna(), alpha=0.05)\n",
    "_= plt.show()"
   ]
  },
  {
   "cell_type": "markdown",
   "metadata": {},
   "source": [
    "The strongest positive/negative autocorrelations are at lags 6,12,18....etc, and they are significantly different from zero."
   ]
  },
  {
   "cell_type": "markdown",
   "metadata": {},
   "source": [
    "### Temperature Autocorrelation - Details - Lag 6 Months"
   ]
  },
  {
   "cell_type": "code",
   "execution_count": 65,
   "metadata": {},
   "outputs": [
    {
     "data": {
      "text/plain": [
       "array([49.19064649, 52.64680187, 65.56445367, 65.57258065, 74.87039106,\n",
       "       79.83472023, 82.82438017, 80.06433471, 78.62994186, 72.98637602])"
      ]
     },
     "execution_count": 65,
     "metadata": {},
     "output_type": "execute_result"
    }
   ],
   "source": [
    "# Convert to array the average monthly temperatures\n",
    "Temp = np.array(TmAvg)\n",
    "Temp[0:10]"
   ]
  },
  {
   "cell_type": "code",
   "execution_count": 66,
   "metadata": {},
   "outputs": [
    {
     "data": {
      "text/plain": [
       "array([82.82438017, 80.06433471, 78.62994186, 72.98637602, 68.87421652,\n",
       "       55.33662551, 57.12204836, 58.13172205, 67.30636238, 69.52481858])"
      ]
     },
     "execution_count": 66,
     "metadata": {},
     "output_type": "execute_result"
    }
   ],
   "source": [
    "# Shift forward six months\n",
    "day_i_Temp = Temp[6:]\n",
    "day_i_Temp[0:10]"
   ]
  },
  {
   "cell_type": "code",
   "execution_count": 67,
   "metadata": {},
   "outputs": [
    {
     "data": {
      "text/plain": [
       "array([49.19064649, 52.64680187, 65.56445367, 65.57258065, 74.87039106,\n",
       "       79.83472023, 82.82438017, 80.06433471, 78.62994186, 72.98637602])"
      ]
     },
     "execution_count": 67,
     "metadata": {},
     "output_type": "execute_result"
    }
   ],
   "source": [
    "# To keep the arrays the same lenght\n",
    "day_i_TempMinus6 = Temp[:-6]\n",
    "day_i_TempMinus6[0:10]"
   ]
  },
  {
   "cell_type": "code",
   "execution_count": 68,
   "metadata": {},
   "outputs": [
    {
     "data": {
      "text/plain": [
       "True"
      ]
     },
     "execution_count": 68,
     "metadata": {},
     "output_type": "execute_result"
    }
   ],
   "source": [
    "len(day_i_TempMinus6)==len(day_i_Temp)"
   ]
  },
  {
   "cell_type": "code",
   "execution_count": 69,
   "metadata": {},
   "outputs": [
    {
     "data": {
      "image/png": "[encoded data removed]",
      "text/plain": [
       "<Figure size 432x288 with 1 Axes>"
      ]
     },
     "metadata": {
      "needs_background": "light"
     },
     "output_type": "display_data"
    }
   ],
   "source": [
    "_= plt.plot(day_i_TempMinus6, day_i_Temp, marker='.', linestyle='none', color='green')\n",
    "_= plt.xlabel(\"Temperature (F)\")\n",
    "_= plt.ylabel(\"Temperature (F) - Lag Six Months\")\n",
    "plt.show()"
   ]
  },
  {
   "cell_type": "markdown",
   "metadata": {},
   "source": [
    "## Seasonal Adjustment of Monthly Temperatures"
   ]
  },
  {
   "cell_type": "code",
   "execution_count": 70,
   "metadata": {},
   "outputs": [
    {
     "name": "stdout",
     "output_type": "stream",
     "text": [
      "date\n",
      "1974-01-31    7.931402\n",
      "1974-02-28    5.484920\n",
      "1974-03-31    1.741909\n",
      "1974-04-30    3.952238\n",
      "1974-05-31    2.424900\n",
      "1974-06-30    0.582702\n",
      "1974-07-31   -1.006186\n",
      "1974-08-31    1.076350\n",
      "1974-09-30   -3.146465\n",
      "1974-10-31   -1.022789\n",
      "1974-11-30   -7.308729\n",
      "1974-12-31    0.284064\n",
      "1975-01-31    0.732039\n",
      "1975-02-28   -0.538908\n",
      "1975-03-31   -4.180578\n",
      "1975-04-30   -0.124963\n",
      "1975-05-31   -0.586251\n",
      "1975-06-30   -0.209348\n",
      "1975-07-31   -0.096426\n",
      "1975-08-31   -0.420909\n",
      "Name: temp, dtype: float64\n"
     ]
    }
   ],
   "source": [
    "# Seasonally adjust monthly earnings\n",
    "TmAvgsa = TmAvg.diff(periods = 12).dropna()\n",
    "# Print the first 20 rows of the seasonally adjusted series\n",
    "print(TmAvgsa.head(20))"
   ]
  },
  {
   "cell_type": "code",
   "execution_count": 71,
   "metadata": {},
   "outputs": [
    {
     "data": {
      "image/png": "[encoded data removed]",
      "text/plain": [
       "<Figure size 432x288 with 1 Axes>"
      ]
     },
     "metadata": {
      "needs_background": "light"
     },
     "output_type": "display_data"
    }
   ],
   "source": [
    "_= plt.plot(TmAvgsa)\n",
    "_= plt.title('Seasonally adjusted monthly Temperatures')\n",
    "plt.show()"
   ]
  },
  {
   "cell_type": "code",
   "execution_count": 95,
   "metadata": {},
   "outputs": [
    {
     "data": {
      "image/png": "[encoded data removed]",
      "text/plain": [
       "<Figure size 432x288 with 1 Axes>"
      ]
     },
     "metadata": {
      "needs_background": "light"
     },
     "output_type": "display_data"
    }
   ],
   "source": [
    "_= plt.plot(TmAvgsa)\n",
    "_= plt.xlim('2000','2003')\n",
    "_= plt.xticks(rotation=45)\n",
    "plt.show()"
   ]
  },
  {
   "cell_type": "markdown",
   "metadata": {},
   "source": [
    "By seasonally adjusting the series, we eliminated the seasonal pattern in the autocorrelation function below."
   ]
  },
  {
   "cell_type": "code",
   "execution_count": 72,
   "metadata": {},
   "outputs": [
    {
     "data": {
      "image/png": "[encoded data removed]",
      "text/plain": [
       "<Figure size 432x288 with 1 Axes>"
      ]
     },
     "metadata": {
      "needs_background": "light"
     },
     "output_type": "display_data"
    }
   ],
   "source": [
    "# Plot the autocorrelation function of the seasonally adjusted series\n",
    "_= plot_acf(TmAvgsa)\n",
    "plt.show()"
   ]
  },
  {
   "cell_type": "markdown",
   "metadata": {},
   "source": [
    "### Are Seasonally Adjusted Monthly Temperatures a Random Walk"
   ]
  },
  {
   "cell_type": "code",
   "execution_count": 94,
   "metadata": {},
   "outputs": [
    {
     "name": "stdout",
     "output_type": "stream",
     "text": [
      "The p-value of the test on temperatures is: 3.83046249488727e-06\n"
     ]
    }
   ],
   "source": [
    "# Run the ADF test on the monthly temperature series and print out the results\n",
    "results = adfuller(TmAvgsa.dropna())\n",
    "# Print out just the p-value of the test (results[0] is the test statistic, and results[1] is the p-value)\n",
    "print('The p-value of the test on temperatures is: ' + str(results[1]))"
   ]
  },
  {
   "cell_type": "markdown",
   "metadata": {},
   "source": [
    "According to this test, we can reject the hypothesis that seasonally adjusted monthly temperatures follow a random walk."
   ]
  },
  {
   "cell_type": "code",
   "execution_count": null,
   "metadata": {},
   "outputs": [],
   "source": []
  }
 ],
 "metadata": {
  "kernelspec": {
   "display_name": "Python 3",
   "language": "python",
   "name": "python3"
  },
  "language_info": {
   "codemirror_mode": {
    "name": "ipython",
    "version": 3
   },
   "file_extension": ".py",
   "mimetype": "text/x-python",
   "name": "python",
   "nbconvert_exporter": "python",
   "pygments_lexer": "ipython3",
   "version": "3.7.3"
  },
  "latex_envs": {
   "LaTeX_envs_menu_present": true,
   "autoclose": false,
   "autocomplete": true,
   "bibliofile": "biblio.bib",
   "cite_by": "apalike",
   "current_citInitial": 1,
   "eqLabelWithNumbers": true,
   "eqNumInitial": 1,
   "hotkeys": {
    "equation": "Ctrl-E",
    "itemize": "Ctrl-I"
   },
   "labels_anchors": false,
   "latex_user_defs": false,
   "report_style_numbering": false,
   "user_envs_cfg": false
  },
  "toc": {
   "base_numbering": 1,
   "nav_menu": {},
   "number_sections": true,
   "sideBar": true,
   "skip_h1_title": false,
   "title_cell": "Table of Contents",
   "title_sidebar": "Contents",
   "toc_cell": false,
   "toc_position": {
    "height": "calc(100% - 180px)",
    "left": "10px",
    "top": "150px",
    "width": "303.837px"
   },
   "toc_section_display": true,
   "toc_window_display": true
  }
 },
 "nbformat": 4,
 "nbformat_minor": 2
}
